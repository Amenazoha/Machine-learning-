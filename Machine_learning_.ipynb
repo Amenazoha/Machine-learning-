{
  "nbformat": 4,
  "nbformat_minor": 0,
  "metadata": {
    "colab": {
      "name": "Machine learning .ipynb",
      "provenance": [],
      "collapsed_sections": [],
      "mount_file_id": "17tDdPX9JUWNBOxCMtHOK0zMEixpv0zx3",
      "authorship_tag": "ABX9TyPhxUy2/04DdzlhQgAi8ptq",
      "include_colab_link": true
    },
    "kernelspec": {
      "display_name": "Python 3",
      "name": "python3"
    },
    "language_info": {
      "name": "python"
    }
  },
  "cells": [
    {
      "cell_type": "markdown",
      "metadata": {
        "id": "view-in-github",
        "colab_type": "text"
      },
      "source": [
        "<a href=\"https://colab.research.google.com/github/Amenazoha/Machine-learning-/blob/Main/Machine_learning_.ipynb\" target=\"_parent\"><img src=\"https://colab.research.google.com/assets/colab-badge.svg\" alt=\"Open In Colab\"/></a>"
      ]
    },
    {
      "cell_type": "markdown",
      "metadata": {
        "id": "5w7bM494Nhou"
      },
      "source": [
        "THE SPARKS FOUNDATION"
      ]
    },
    {
      "cell_type": "markdown",
      "metadata": {
        "id": "VpjM4dHyL6QC"
      },
      "source": [
        "AMENA ZOHA"
      ]
    },
    {
      "cell_type": "markdown",
      "metadata": {
        "id": "lRYKUG44Mrks"
      },
      "source": [
        "Task:prediction using supervised ML"
      ]
    },
    {
      "cell_type": "code",
      "metadata": {
        "id": "S9_gruOAwDeV"
      },
      "source": [
        " \n",
        "#importing libraries \n",
        " \n",
        "import pandas as pd\n",
        "import numpy as np \n",
        "import matplotlib.pyplot as plt"
      ],
      "execution_count": null,
      "outputs": []
    },
    {
      "cell_type": "code",
      "metadata": {
        "id": "oDRQDev9V9Ug",
        "colab": {
          "base_uri": "https://localhost:8080/"
        },
        "outputId": "0d4f270a-3e12-42dc-b382-d1c624b6441d"
      },
      "source": [
        " #importing csv file (data)\n",
        "data=pd.read_csv(\"/content/drive/MyDrive/Data.csv\")\n",
        "print(data) #the given data is stored in \"x-hours\" & \"y-scores\""
      ],
      "execution_count": null,
      "outputs": [
        {
          "output_type": "stream",
          "text": [
            "    Hours   Score \n",
            "0      2.5      21\n",
            "1      5.1      47\n",
            "2      3.2      27\n",
            "3      8.5      75\n",
            "4      3.5      30\n",
            "5      1.5      20\n",
            "6      9.2      88\n",
            "7      5.5      60\n",
            "8      8.3      81\n",
            "9      2.7      25\n",
            "10     7.7      85\n",
            "11     5.9      62\n",
            "12     4.5      41\n",
            "13     3.3      42\n",
            "14     1.1      17\n",
            "15     8.9      95\n",
            "16     2.5      30\n",
            "17     1.9      24\n",
            "18     6.1      67\n",
            "19     7.4      69\n",
            "20     2.7      30\n",
            "21     4.8      54\n",
            "22     3.8      35\n",
            "23     6.9      76\n",
            "24     7.8      86\n"
          ],
          "name": "stdout"
        }
      ]
    },
    {
      "cell_type": "code",
      "metadata": {
        "id": "8AAaF8eLxDM6",
        "colab": {
          "base_uri": "https://localhost:8080/",
          "height": 204
        },
        "outputId": "9512aa8b-6e63-4f08-d8cb-0e797575801f"
      },
      "source": [
        "data.head(5)"
      ],
      "execution_count": null,
      "outputs": [
        {
          "output_type": "execute_result",
          "data": {
            "text/html": [
              "<div>\n",
              "<style scoped>\n",
              "    .dataframe tbody tr th:only-of-type {\n",
              "        vertical-align: middle;\n",
              "    }\n",
              "\n",
              "    .dataframe tbody tr th {\n",
              "        vertical-align: top;\n",
              "    }\n",
              "\n",
              "    .dataframe thead th {\n",
              "        text-align: right;\n",
              "    }\n",
              "</style>\n",
              "<table border=\"1\" class=\"dataframe\">\n",
              "  <thead>\n",
              "    <tr style=\"text-align: right;\">\n",
              "      <th></th>\n",
              "      <th>Hours</th>\n",
              "      <th>Score</th>\n",
              "    </tr>\n",
              "  </thead>\n",
              "  <tbody>\n",
              "    <tr>\n",
              "      <th>0</th>\n",
              "      <td>2.5</td>\n",
              "      <td>21</td>\n",
              "    </tr>\n",
              "    <tr>\n",
              "      <th>1</th>\n",
              "      <td>5.1</td>\n",
              "      <td>47</td>\n",
              "    </tr>\n",
              "    <tr>\n",
              "      <th>2</th>\n",
              "      <td>3.2</td>\n",
              "      <td>27</td>\n",
              "    </tr>\n",
              "    <tr>\n",
              "      <th>3</th>\n",
              "      <td>8.5</td>\n",
              "      <td>75</td>\n",
              "    </tr>\n",
              "    <tr>\n",
              "      <th>4</th>\n",
              "      <td>3.5</td>\n",
              "      <td>30</td>\n",
              "    </tr>\n",
              "  </tbody>\n",
              "</table>\n",
              "</div>"
            ],
            "text/plain": [
              "   Hours   Score \n",
              "0     2.5      21\n",
              "1     5.1      47\n",
              "2     3.2      27\n",
              "3     8.5      75\n",
              "4     3.5      30"
            ]
          },
          "metadata": {
            "tags": []
          },
          "execution_count": 6
        }
      ]
    },
    {
      "cell_type": "code",
      "metadata": {
        "id": "OHdJf1UFxVw9",
        "colab": {
          "base_uri": "https://localhost:8080/"
        },
        "outputId": "85d630d0-93c6-4e5d-e911-83666e870a0c"
      },
      "source": [
        "veal_x=data.iloc[:,0:1]\n",
        "veal_y=data.iloc[:,1:2]\n",
        "print(veal_x)\n",
        "print(veal_y)"
      ],
      "execution_count": null,
      "outputs": [
        {
          "output_type": "stream",
          "text": [
            "    Hours \n",
            "0      2.5\n",
            "1      5.1\n",
            "2      3.2\n",
            "3      8.5\n",
            "4      3.5\n",
            "5      1.5\n",
            "6      9.2\n",
            "7      5.5\n",
            "8      8.3\n",
            "9      2.7\n",
            "10     7.7\n",
            "11     5.9\n",
            "12     4.5\n",
            "13     3.3\n",
            "14     1.1\n",
            "15     8.9\n",
            "16     2.5\n",
            "17     1.9\n",
            "18     6.1\n",
            "19     7.4\n",
            "20     2.7\n",
            "21     4.8\n",
            "22     3.8\n",
            "23     6.9\n",
            "24     7.8\n",
            "    Score \n",
            "0       21\n",
            "1       47\n",
            "2       27\n",
            "3       75\n",
            "4       30\n",
            "5       20\n",
            "6       88\n",
            "7       60\n",
            "8       81\n",
            "9       25\n",
            "10      85\n",
            "11      62\n",
            "12      41\n",
            "13      42\n",
            "14      17\n",
            "15      95\n",
            "16      30\n",
            "17      24\n",
            "18      67\n",
            "19      69\n",
            "20      30\n",
            "21      54\n",
            "22      35\n",
            "23      76\n",
            "24      86\n"
          ],
          "name": "stdout"
        }
      ]
    },
    {
      "cell_type": "code",
      "metadata": {
        "id": "wKgLyCYJEArB"
      },
      "source": [
        "#importing model\n",
        "from sklearn.model_selection import train_test_split"
      ],
      "execution_count": null,
      "outputs": []
    },
    {
      "cell_type": "code",
      "metadata": {
        "id": "2qfIcUAu3YJc",
        "colab": {
          "base_uri": "https://localhost:8080/"
        },
        "outputId": "bb9d04d2-1eeb-4c70-a252-87b942c87030"
      },
      "source": [
        "training_x,testing_x,training_y,testing_y=train_test_split(veal_x,veal_y,test_size=0.3,random_state=0)\n",
        "print(training_x,testing_x,training_y,testing_y)"
      ],
      "execution_count": null,
      "outputs": [
        {
          "output_type": "stream",
          "text": [
            "    Hours \n",
            "23     6.9\n",
            "14     1.1\n",
            "1      5.1\n",
            "10     7.7\n",
            "13     3.3\n",
            "8      8.3\n",
            "6      9.2\n",
            "18     6.1\n",
            "4      3.5\n",
            "9      2.7\n",
            "7      5.5\n",
            "20     2.7\n",
            "3      8.5\n",
            "0      2.5\n",
            "21     4.8\n",
            "15     8.9\n",
            "12     4.5     Hours \n",
            "5      1.5\n",
            "2      3.2\n",
            "19     7.4\n",
            "16     2.5\n",
            "11     5.9\n",
            "22     3.8\n",
            "17     1.9\n",
            "24     7.8     Score \n",
            "23      76\n",
            "14      17\n",
            "1       47\n",
            "10      85\n",
            "13      42\n",
            "8       81\n",
            "6       88\n",
            "18      67\n",
            "4       30\n",
            "9       25\n",
            "7       60\n",
            "20      30\n",
            "3       75\n",
            "0       21\n",
            "21      54\n",
            "15      95\n",
            "12      41     Score \n",
            "5       20\n",
            "2       27\n",
            "19      69\n",
            "16      30\n",
            "11      62\n",
            "22      35\n",
            "17      24\n",
            "24      86\n"
          ],
          "name": "stdout"
        }
      ]
    },
    {
      "cell_type": "code",
      "metadata": {
        "id": "7pgsUxdTekmI"
      },
      "source": [
        "#importing LinearRegression \n",
        "from sklearn.linear_model import LinearRegression"
      ],
      "execution_count": null,
      "outputs": []
    },
    {
      "cell_type": "code",
      "metadata": {
        "id": "Vk4qyKpVAqL9",
        "colab": {
          "base_uri": "https://localhost:8080/"
        },
        "outputId": "ac701468-0e7e-41e4-98bc-407f9de8ebe2"
      },
      "source": [
        "#training the model \n",
        "sem=LinearRegression()\n",
        "sem.fit(training_x, training_y)"
      ],
      "execution_count": null,
      "outputs": [
        {
          "output_type": "execute_result",
          "data": {
            "text/plain": [
              "LinearRegression(copy_X=True, fit_intercept=True, n_jobs=None, normalize=False)"
            ]
          },
          "metadata": {
            "tags": []
          },
          "execution_count": 31
        }
      ]
    },
    {
      "cell_type": "code",
      "metadata": {
        "id": "RB_quvSbPPfB",
        "colab": {
          "base_uri": "https://localhost:8080/"
        },
        "outputId": "c3fd9316-7ed3-4bba-907e-7d02d579a1a3"
      },
      "source": [
        "#Testing the trained model\n",
        "print(\"Done!\")\n",
        "#coefficient and slope\n",
        "print(\"coefficient:\", sem.coef_)\n",
        "print(\"slope:\",sem.intercept_)"
      ],
      "execution_count": null,
      "outputs": [
        {
          "output_type": "stream",
          "text": [
            "Done!\n",
            "coefficient: [[9.78856669]]\n",
            "slope: [2.37081538]\n"
          ],
          "name": "stdout"
        }
      ]
    },
    {
      "cell_type": "code",
      "metadata": {
        "colab": {
          "base_uri": "https://localhost:8080/"
        },
        "id": "dDuRI29rBl6q",
        "outputId": "f6ec052e-65c3-48e6-be06-8ff847453b83"
      },
      "source": [
        " \n",
        "#Testing the model,predicting the 'y'-value(scores) using 'x'-value\n",
        "pred_y=sem.predict(testing_x) \n",
        "print(\"Testing:\",testing_x )\n",
        "Can_dhu={\"real value\" :veal_y,\"predicted\" :pred_y}\n",
        "Cn=pd.DataFrame([Can_dhu])\n",
        "print(Cn)"
      ],
      "execution_count": null,
      "outputs": [
        {
          "output_type": "stream",
          "text": [
            "Testing:     Hours \n",
            "5      1.5\n",
            "2      3.2\n",
            "19     7.4\n",
            "16     2.5\n",
            "11     5.9\n",
            "22     3.8\n",
            "17     1.9\n",
            "24     7.8\n",
            "                                          real value                                          predicted\n",
            "0      Score \n",
            "0       21\n",
            "1       47\n",
            "2       27\n",
            "3 ...  [[17.053665412465456], [33.69422877993883], [7...\n"
          ],
          "name": "stdout"
        }
      ]
    },
    {
      "cell_type": "code",
      "metadata": {
        "colab": {
          "base_uri": "https://localhost:8080/",
          "height": 295
        },
        "id": "FkWtbjTV_jHa",
        "outputId": "2d0919be-24ed-485f-e52f-d31a46989895"
      },
      "source": [
        " \n",
        "#plotting  model \n",
        "plt.scatter(training_x, training_y)\n",
        "plt.xlabel(\"Hours\") \n",
        "plt.ylabel(\"Scores\") \n",
        "plt.title(\"hours Vs scores\") \n",
        "plt.show()"
      ],
      "execution_count": null,
      "outputs": [
        {
          "output_type": "display_data",
          "data": {
            "image/png": "[encoded data removed]",
            "text/plain": [
              "<Figure size 432x288 with 1 Axes>"
            ]
          },
          "metadata": {
            "tags": [],
            "needs_background": "light"
          }
        }
      ]
    },
    {
      "cell_type": "code",
      "metadata": {
        "colab": {
          "base_uri": "https://localhost:8080/",
          "height": 238
        },
        "id": "97w94EyqcSpG",
        "outputId": "6751b0ae-fb9b-4d72-8c00-ba3d7d6c9652"
      },
      "source": [
        "#Y=mx+c\n",
        "Y=sem.coef_*training_x+sem.intercept_\n",
        "plt.scatter(training_x, training_y)\n",
        "plt.xlabel('Hours') \n",
        "plt.ylabel('Scores')\n",
        "plt.title(\"hours Vs scores\")\n",
        "plt.plot(training_x,Y,color='red') \n",
        "plt.show()"
      ],
      "execution_count": null,
      "outputs": [
        {
          "output_type": "display_data",
          "data": {
            "image/png": "[encoded data removed]",
            "text/plain": [
              "<Figure size 432x288 with 1 Axes>"
            ]
          },
          "metadata": {
            "tags": [],
            "needs_background": "light"
          }
        }
      ]
    },
    {
      "cell_type": "code",
      "metadata": {
        "colab": {
          "base_uri": "https://localhost:8080/"
        },
        "id": "1PatsRWsg2ag",
        "outputId": "713a3620-5b1d-4e2d-845c-b3716ab01c00"
      },
      "source": [
        "#predicting the value for 9.25\n",
        "pred_y =sem.predict([[9.25]])\n",
        "print(\"the predicting value for 9.25 is:\", pred_y)"
      ],
      "execution_count": null,
      "outputs": [
        {
          "output_type": "stream",
          "text": [
            "the predicting value for 9.25 is: [[92.91505723]]\n"
          ],
          "name": "stdout"
        }
      ]
    }
  ]
}